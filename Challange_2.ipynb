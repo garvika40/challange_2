{
  "nbformat": 4,
  "nbformat_minor": 0,
  "metadata": {
    "colab": {
      "provenance": []
    },
    "kernelspec": {
      "name": "python3",
      "display_name": "Python 3"
    },
    "language_info": {
      "name": "python"
    }
  },
  "cells": [
    {
      "cell_type": "code",
      "source": [
        "!pip install surprise -q -q -q\n",
        "from surprise import KNNBasic"
      ],
      "metadata": {
        "colab": {
          "base_uri": "https://localhost:8080/"
        },
        "id": "BmY_wq4Xso4L",
        "outputId": "04005edc-a09d-4468-8e01-a6930eee2704"
      },
      "execution_count": 2,
      "outputs": [
        {
          "output_type": "stream",
          "name": "stdout",
          "text": [
            "\u001b[?25l     \u001b[90m━━━━━━━━━━━━━━━━━━━━━━━━━━━━━━━━━━━━━━━━\u001b[0m \u001b[32m0.0/772.0 kB\u001b[0m \u001b[31m?\u001b[0m eta \u001b[36m-:--:--\u001b[0m\r\u001b[2K     \u001b[91m━━━━━━━\u001b[0m\u001b[90m╺\u001b[0m\u001b[90m━━━━━━━━━━━━━━━━━━━━━━━━━━━━━━━━\u001b[0m \u001b[32m143.4/772.0 kB\u001b[0m \u001b[31m4.4 MB/s\u001b[0m eta \u001b[36m0:00:01\u001b[0m\r\u001b[2K     \u001b[91m━━━━━━━━━━━━━━━━━━━━━━━━━━━\u001b[0m\u001b[91m╸\u001b[0m\u001b[90m━━━━━━━━━━━━\u001b[0m \u001b[32m532.5/772.0 kB\u001b[0m \u001b[31m7.6 MB/s\u001b[0m eta \u001b[36m0:00:01\u001b[0m\r\u001b[2K     \u001b[90m━━━━━━━━━━━━━━━━━━━━━━━━━━━━━━━━━━━━━━━━\u001b[0m \u001b[32m772.0/772.0 kB\u001b[0m \u001b[31m7.6 MB/s\u001b[0m eta \u001b[36m0:00:00\u001b[0m\n",
            "\u001b[?25h  Preparing metadata (setup.py) ... \u001b[?25l\u001b[?25hdone\n",
            "  Building wheel for scikit-surprise (setup.py) ... \u001b[?25l\u001b[?25hdone\n"
          ]
        }
      ]
    },
    {
      "cell_type": "code",
      "source": [
        "import pandas as pd"
      ],
      "metadata": {
        "id": "w9SIIrllslqr"
      },
      "execution_count": 3,
      "outputs": []
    },
    {
      "cell_type": "code",
      "execution_count": 1,
      "metadata": {
        "colab": {
          "base_uri": "https://localhost:8080/"
        },
        "id": "eVhG4xmVsQ5P",
        "outputId": "3112236d-1b31-4c23-bca7-c3069673c3c0"
      },
      "outputs": [
        {
          "output_type": "stream",
          "name": "stdout",
          "text": [
            "Mounted at /content/gdrive\n"
          ]
        }
      ],
      "source": [
        "from google.colab import drive\n",
        "drive.mount(\"/content/gdrive\")"
      ]
    },
    {
      "cell_type": "code",
      "source": [
        "train_data = pd.read_csv('/content/gdrive/MyDrive/Recsys_data/train.csv', error_bad_lines=False, usecols=['msno','song_id','target'])\n",
        "# members_info=pd.read_csv('/content/gdrive/MyDrive/Recsys_data/members.csv')\n",
        "# test_data=pd.read_csv('/content/gdrive/MyDrive/Recsys_data/test.csv')"
      ],
      "metadata": {
        "colab": {
          "base_uri": "https://localhost:8080/"
        },
        "id": "EUJY391ssRXP",
        "outputId": "747bacb2-1b2a-4a23-f1d4-659673eef955"
      },
      "execution_count": 29,
      "outputs": [
        {
          "output_type": "stream",
          "name": "stderr",
          "text": [
            "<ipython-input-29-84065b51710d>:1: FutureWarning: The error_bad_lines argument has been deprecated and will be removed in a future version. Use on_bad_lines in the future.\n",
            "\n",
            "\n",
            "  train_data = pd.read_csv('/content/gdrive/MyDrive/Recsys_data/train.csv', error_bad_lines=False, usecols=['msno','song_id','target'])\n",
            "<ipython-input-29-84065b51710d>:1: DtypeWarning: Columns (5) have mixed types. Specify dtype option on import or set low_memory=False.\n",
            "  train_data = pd.read_csv('/content/gdrive/MyDrive/Recsys_data/train.csv', error_bad_lines=False, usecols=['msno','song_id','target'])\n"
          ]
        }
      ]
    },
    {
      "cell_type": "code",
      "source": [
        "train_data.dropna(inplace = True)\n",
        "train_data.reset_index(inplace = True)"
      ],
      "metadata": {
        "id": "ekPrCJc3vl6p"
      },
      "execution_count": 30,
      "outputs": []
    },
    {
      "cell_type": "code",
      "source": [
        "train_data['msno'][8]"
      ],
      "metadata": {
        "colab": {
          "base_uri": "https://localhost:8080/",
          "height": 36
        },
        "id": "1-fLhZNZwyAi",
        "outputId": "4682ef0c-d21c-43d6-fe9a-1dd0a583e581"
      },
      "execution_count": 46,
      "outputs": [
        {
          "output_type": "execute_result",
          "data": {
            "text/plain": [
              "'uHqAtShXTRXju5GE8ri3ITsVFepPf8jUoCF7ffNOuqE='"
            ],
            "application/vnd.google.colaboratory.intrinsic+json": {
              "type": "string"
            }
          },
          "metadata": {},
          "execution_count": 46
        }
      ]
    },
    {
      "cell_type": "code",
      "source": [
        "\n",
        "from sklearn.preprocessing import MinMaxScaler"
      ],
      "metadata": {
        "id": "y9MjiSLh2DHP"
      },
      "execution_count": 51,
      "outputs": []
    },
    {
      "cell_type": "code",
      "source": [
        "from surprise import Dataset, Reader, KNNBasic\n",
        "from surprise.model_selection import train_test_split\n",
        "from surprise import accuracy\n",
        "\n",
        "train_data = train_data[train_data['target'].astype(str).str.isdigit()]\n",
        "reader = Reader(rating_scale=(0, 1))\n",
        "data = Dataset.load_from_df(train_data[['msno', 'song_id', 'target']], reader)\n",
        "\n"
      ],
      "metadata": {
        "id": "dCNQyLumx9Nk"
      },
      "execution_count": 67,
      "outputs": []
    },
    {
      "cell_type": "code",
      "source": [
        "\n",
        "from surprise.model_selection import GridSearchCV\n",
        "\n",
        "\n",
        "# Choosing the parameters for grid\n",
        "sim_options = {\n",
        "    'name': 'pearson_baseline',  # Choose the similarity measure, e.g., cosine, pearson\n",
        "    'user_based': True  # Specify whether to use user-based or item-based collaborative filtering\n",
        "}\n",
        "#Knn basic object\n",
        "knn_basic = KNNBasic(sim_options=sim_options,normalize=True, user_based=True,)\n",
        "\n"
      ],
      "metadata": {
        "colab": {
          "base_uri": "https://localhost:8080/"
        },
        "id": "2qYzauhosveZ",
        "outputId": "99f1dcbe-7ec0-4879-eb02-d05a43c44f69"
      },
      "execution_count": 70,
      "outputs": [
        {
          "output_type": "stream",
          "name": "stdout",
          "text": [
            "Estimating biases using als...\n",
            "Computing the pearson_baseline similarity matrix...\n",
            "Done computing similarity matrix.\n"
          ]
        },
        {
          "output_type": "execute_result",
          "data": {
            "text/plain": [
              "<surprise.prediction_algorithms.knns.KNNBasic at 0x7c2f4ff162f0>"
            ]
          },
          "metadata": {},
          "execution_count": 70
        }
      ]
    },
    {
      "cell_type": "code",
      "source": [
        "from surprise import Dataset\n",
        "from surprise import KNNBasic\n",
        "from surprise.model_selection import train_test_split\n",
        "from surprise import accuracy\n",
        "\n",
        "trainset, testset = train_test_split(data, test_size=0.25, )\n",
        "knn_basic.fit(trainset)\n",
        "\n",
        "predictions = knn_basic.test(testset)\n",
        "\n",
        "accuracy.rmse(predictions)\n",
        "\n",
        "user_id = 'uHqAtShXTRXju5GE8ri3ITsVFepPf8jUoCF7ffNOuqE='\n",
        "\n",
        "user_inner_id = trainset.to_inner_uid(user_id)\n",
        "\n",
        "k_nearest_neighbors = knn_basic.get_neighbors(user_inner_id, k=10)\n",
        "\n",
        "item_ratings = {}\n",
        "\n",
        "for neighbor_inner_id in k_nearest_neighbors:\n",
        "    neighbor_raw_id = trainset.to_raw_uid(neighbor_inner_id)\n",
        "\n",
        "    neighbor_ratings = trainset.ur[neighbor_inner_id]\n",
        "\n",
        "    for item_inner_id, rating in neighbor_ratings:\n",
        "        item_raw_id = trainset.to_raw_iid(item_inner_id)\n",
        "\n",
        "        if item_raw_id not in item_ratings:\n",
        "            item_ratings[item_raw_id] = rating\n",
        "        else:\n",
        "            item_ratings[item_raw_id] = (item_ratings[item_raw_id] + rating) / 2\n",
        "\n",
        "top_n_recommendations = sorted(item_ratings.items(), key=lambda x: x[1], reverse=True)[:10]\n",
        "\n",
        "#top N recommendations\n",
        "for song_id, predicted_rating in top_n_recommendations:\n",
        "    print(f'Song ID: {song_id}, target: {predicted_rating}')\n",
        "\n"
      ],
      "metadata": {
        "colab": {
          "base_uri": "https://localhost:8080/"
        },
        "id": "Sd4j3OuXs0ll",
        "outputId": "4bb3d519-fc32-4ca1-8af8-c80b433ab90a"
      },
      "execution_count": 74,
      "outputs": [
        {
          "output_type": "stream",
          "name": "stdout",
          "text": [
            "Estimating biases using als...\n",
            "Computing the pearson_baseline similarity matrix...\n",
            "Done computing similarity matrix.\n",
            "RMSE: 0.4083\n",
            "Song ID: /y60wRjvYtUHNYg1jjAU3XscE+BN9Z74p7pfYQ+xjfM=, target: 1.0\n",
            "Song ID: SJOEwaBBHX3xNy0Cu6CPoqxMAs7cuJ26v8i2yHuvELk=, target: 1.0\n",
            "Song ID: GQqErVwbH/YaifR6wl2S6prosRVHhwGO2/Aq5aIJLA8=, target: 1.0\n",
            "Song ID: GjIfPZMlRbZcUhy+bXvh92yoO2imByIIKQrsBT/Hook=, target: 1.0\n",
            "Song ID: cxlWjHAhKqO2bHxWa3uemzScKrOfXqcycSi4r87yT0Y=, target: 1.0\n",
            "Song ID: 3Yz717mUtR+r4L0zzgDgWnYeFtY9g68ZjKlq1U72KNw=, target: 1.0\n",
            "Song ID: 537ZQfKiswTVTs41yPIiIVz338Jw58+Ym7nhRkjivXc=, target: 1.0\n",
            "Song ID: +QHBcF9ei9nhEJl9A+385mP0ztuBqVG6R4vijsNx7Uw=, target: 1.0\n",
            "Song ID: zuRGGQHOiNCAEoHguelhLxy5EqPNpX4zywv6/uxDbcQ=, target: 1.0\n",
            "Song ID: kmvJKGLVtgymT+JiPJkxffB1eIga2TYaziuZm1ozL+U=, target: 1.0\n"
          ]
        }
      ]
    }
  ]
}